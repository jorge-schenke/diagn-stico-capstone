{
 "cells": [
  {
   "cell_type": "code",
   "execution_count": 3,
   "metadata": {},
   "outputs": [],
   "source": [
    "from most_retweeted import most_retweeted\n",
    "from most_tweets_day import most_tweets_day\n",
    "from most_tweets import most_tweets\n",
    "from most_used_hashtags import most_used_hashtags"
   ]
  },
  {
   "cell_type": "code",
   "execution_count": 6,
   "metadata": {},
   "outputs": [
    {
     "name": "stdout",
     "output_type": "stream",
     "text": [
      "[{'content': b'To all of my influencer/celeb friends- read up on this   #FarmersProtest \\xf0\\x9f\\x91\\x80', 'retweetCount': 15677}, {'content': b'Should be talking about this! #FarmersProtest\\n\\nhttps://t.co/Xh09iTvVoF', 'retweetCount': 17368}, {'content': b'Farmers feed the world. Fight for them. Protect them #FarmersProtest', 'retweetCount': 18744}, {'content': b'There has been much social media coverage around the #FarmersProtest in #India. Very useful guide to the legislation and the impact on farmers. 1/2 https://t.co/3CsdgBebdZ', 'retweetCount': 20132}, {'content': b'Happy to share that I\\xe2\\x80\\x99ve donated $10,000 to provide medical assistance to the farmers in need in India to help save lives during these times. I hope we can prevent any additional life from being lost. \\xf0\\x9f\\x99\\x8f\\xf0\\x9f\\x8f\\xbe #FarmersProtest https://t.co/0WoEw0l3ij', 'retweetCount': 23251}, {'content': b'What in the human rights violations is going on?! They cut the internet around New Delhi?! #FarmersProtest https://t.co/a5ml1P2ikU', 'retweetCount': 26972}, {'content': b'\\xe2\\x80\\x9cPaid actors,\\xe2\\x80\\x9d huh? Quite the casting director, I hope they\\xe2\\x80\\x99re not overlooked during awards season. I stand with the farmers. #FarmersProtest https://t.co/moONj03tN0', 'retweetCount': 35921}, {'content': b'I still #StandWithFarmers and support their peaceful protest.\\nNo amount of hate, threats or violations of human rights will ever change that. #FarmersProtest', 'retweetCount': 67694}, {'content': b'We stand in solidarity with the #FarmersProtest in India.\\n https://t.co/tqvR0oHgo0', 'retweetCount': 103957}, {'content': b'why aren\\xe2\\x80\\x99t we talking about this?! #FarmersProtest https://t.co/obmIlXhK9S', 'retweetCount': 315547}]\n"
     ]
    }
   ],
   "source": [
    "print(most_retweeted(\"farmers-protest-tweets-2021-03-5.json\"))"
   ]
  },
  {
   "cell_type": "code",
   "execution_count": 7,
   "metadata": {},
   "outputs": [
    {
     "name": "stdout",
     "output_type": "stream",
     "text": [
      "[('2021-02-03', 83866), ('2021-02-04', 58607), ('2021-02-05', 33332), ('2021-02-02', 28548), ('2021-02-06', 22420), ('2021-02-07', 11325), ('2021-02-09', 9320), ('2021-02-08', 8920), ('2021-02-10', 7973), ('2021-02-11', 5698)]\n"
     ]
    }
   ],
   "source": [
    "print(most_tweets_day(\"farmers-protest-tweets-2021-03-5.json\"))"
   ]
  },
  {
   "cell_type": "code",
   "execution_count": 8,
   "metadata": {},
   "outputs": [
    {
     "name": "stdout",
     "output_type": "stream",
     "text": [
      "[{'user': b'GeorgekurianINC', 'statusesCount': 1711890}, {'user': b'GeorgekurianINC', 'statusesCount': 1711890}, {'user': b'threadreaderapp', 'statusesCount': 1762327}, {'user': b'threadreaderapp', 'statusesCount': 1762399}, {'user': b'threadreaderapp', 'statusesCount': 1762402}, {'user': b'threadreaderapp', 'statusesCount': 1762402}, {'user': b'threadreaderapp', 'statusesCount': 1762417}, {'user': b'threadreaderapp', 'statusesCount': 1762450}, {'user': b'threadreaderapp', 'statusesCount': 1762451}, {'user': b'threadreaderapp', 'statusesCount': 1762461}]\n"
     ]
    }
   ],
   "source": [
    "print(most_tweets(\"farmers-protest-tweets-2021-03-5.json\"))"
   ]
  },
  {
   "cell_type": "code",
   "execution_count": 9,
   "metadata": {},
   "outputs": [
    {
     "name": "stdout",
     "output_type": "stream",
     "text": [
      "[(b'#FarmersProtest', 268106), (b'#IStandWithFarmers', 11572), (b'#farmersprotest', 10358), (b'#FarmersAreIndia', 8474), (b'#IndianFarmersHumanRights', 7892), (b'#Rihanna', 7445), (b'#StandWithFarmers', 7062), (b'#FarmersProtests', 7038), (b'#Farmers', 5359), (b'#shameonbollywood', 4438)]\n"
     ]
    }
   ],
   "source": [
    "print(most_used_hashtags(\"farmers-protest-tweets-2021-03-5.json\"))"
   ]
  },
  {
   "cell_type": "code",
   "execution_count": null,
   "metadata": {},
   "outputs": [],
   "source": []
  }
 ],
 "metadata": {
  "kernelspec": {
   "display_name": "Python 3",
   "language": "python",
   "name": "python3"
  },
  "language_info": {
   "codemirror_mode": {
    "name": "ipython",
    "version": 3
   },
   "file_extension": ".py",
   "mimetype": "text/x-python",
   "name": "python",
   "nbconvert_exporter": "python",
   "pygments_lexer": "ipython3",
   "version": "3.7.8"
  }
 },
 "nbformat": 4,
 "nbformat_minor": 4
}
